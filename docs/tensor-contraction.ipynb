{
 "cells": [
  {
   "cell_type": "markdown",
   "id": "a8004610-4943-45cc-9e30-86000015baf2",
   "metadata": {
    "raw_mimetype": "text/restructuredtext",
    "tags": []
   },
   "source": [
    "(tensor-network-contraction)=\n",
    "\n",
    "# TN Contraction\n",
    "\n",
    "general description of problem\n",
    "\n",
    "list contraction interfaces\n",
    "\n",
    "structured contraction\n",
    "\n",
    "boundary contraction\n",
    "\n",
    "coarse graining contractions\n",
    "\n",
    "hyper edges\n",
    "\n",
    "## The `optimize` kwarg\n",
    "\n",
    "## `opt_einsum`\n",
    "\n",
    "## `cotengra`\n",
    "\n",
    "## special contraction methods\n",
    "\n",
    "- [ ]  trace\n",
    "- [ ]  to_dense\n",
    "\n",
    "## caching\n",
    "\n",
    "geometry hash\n",
    "\n",
    "backend and strategies\n",
    "\n",
    "## approximate / compressed contraction\n",
    "\n"
   ]
  }
 ],
 "metadata": {
  "kernelspec": {
   "display_name": "Python 3.10.8 ('numpy')",
   "language": "python",
   "name": "python3"
  },
  "language_info": {
   "codemirror_mode": {
    "name": "ipython",
    "version": 3
   },
   "file_extension": ".py",
   "mimetype": "text/x-python",
   "name": "python",
   "nbconvert_exporter": "python",
   "pygments_lexer": "ipython3",
   "version": "3.10.8"
  },
  "vscode": {
   "interpreter": {
    "hash": "39c10650315d977fb13868ea1402e99f3e10e9885c2c202e692ae90b8995050d"
   }
  }
 },
 "nbformat": 4,
 "nbformat_minor": 5
}
